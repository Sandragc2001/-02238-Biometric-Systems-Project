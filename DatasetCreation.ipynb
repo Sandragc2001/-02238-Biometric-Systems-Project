{
 "cells": [
  {
   "cell_type": "code",
   "execution_count": 140,
   "metadata": {},
   "outputs": [],
   "source": [
    "import os\n",
    "import shutil\n",
    "import random\n",
    "import re\n"
   ]
  },
  {
   "cell_type": "code",
   "execution_count": 141,
   "metadata": {},
   "outputs": [],
   "source": [
    "source_dir = r\"C:\\\\Users\\\\sandr\\\\Documents\\\\DINAMARCA\\\\MASTER\\\\Summer2024\\\\trabajo\\\\FRGC\\\\Morphed\\\\morphs_opencv\"\n",
    "reference_dir = r\"C:\\\\Users\\\\sandr\\\\Documents\\\\DINAMARCA\\\\MASTER\\\\Summer2024\\\\trabajo\\\\Final\\\\bonafide_reference\"\n",
    "target_dir = r\"C:\\\\Users\\\\sandr\\\\Documents\\\\DINAMARCA\\\\MASTER\\\\Summer2024\\\\trabajo\\\\Final\\\\morphs_opencv\""
   ]
  },
  {
   "cell_type": "code",
   "execution_count": 142,
   "metadata": {},
   "outputs": [],
   "source": [
    "import os\n",
    "import re\n",
    "import shutil\n",
    "\n",
    "\n",
    "#Get the list of files in each directory\n",
    "reference_files = os.listdir(reference_dir)\n",
    "source_files = os.listdir(source_dir)\n",
    "\n",
    "prefixes = []\n",
    "copies = []\n",
    "\n",
    "for reference_file in reference_files:\n",
    "    if reference_file.endswith('.png'):\n",
    "        prefix = reference_file.split('d')[0] \n",
    "        prefixes.append(prefix)\n"
   ]
  },
  {
   "cell_type": "code",
   "execution_count": 143,
   "metadata": {},
   "outputs": [],
   "source": [
    "alreadyAddedPrefixes = []\n",
    "for source_file in source_files:\n",
    "    pattern = r\"(\\d+)d\" \n",
    "    \n",
    "    matches = re.findall(pattern, source_file) \n",
    "    \n",
    "    if matches[0] not in alreadyAddedPrefixes and matches[0] in prefixes and matches[1] in prefixes:\n",
    "        copies.append(source_file)\n",
    "        alreadyAddedPrefixes.append(matches[0])\n",
    "\n",
    "\n",
    "\n",
    "for source_file in source_files:\n",
    "    pattern = r\"(\\d+)d\" \n",
    "    matches = re.findall(pattern, source_file) \n",
    "    unique = set([x for x in prefixes if x not in alreadyAddedPrefixes])\n",
    "    if matches[0] in unique:\n",
    "        copies.append(source_file)\n",
    "        alreadyAddedPrefixes.append(matches[0])\n",
    "    #if matches[0] not in prefixes and matches[1] not in prefixes:\n",
    "\n",
    "\n",
    "\n",
    "for copy in copies:\n",
    "    shutil.copy2(os.path.join(source_dir, copy), os.path.join(target_dir, copy))"
   ]
  },
  {
   "cell_type": "code",
   "execution_count": 135,
   "metadata": {},
   "outputs": [
    {
     "data": {
      "text/plain": [
       "['04323', '04323', '04323', '04324', '04324', '04324']"
      ]
     },
     "execution_count": 135,
     "metadata": {},
     "output_type": "execute_result"
    }
   ],
   "source": [
    "[x for x in prefixes if x not in alreadyAddedPrefixes]"
   ]
  },
  {
   "cell_type": "code",
   "execution_count": 128,
   "metadata": {},
   "outputs": [
    {
     "data": {
      "text/plain": [
       "13"
      ]
     },
     "execution_count": 128,
     "metadata": {},
     "output_type": "execute_result"
    }
   ],
   "source": [
    "len(copies)"
   ]
  },
  {
   "cell_type": "markdown",
   "metadata": {},
   "source": [
    "### FaceMorpher"
   ]
  },
  {
   "cell_type": "code",
   "execution_count": 146,
   "metadata": {},
   "outputs": [
    {
     "data": {
      "text/plain": [
       "[]"
      ]
     },
     "execution_count": 146,
     "metadata": {},
     "output_type": "execute_result"
    }
   ],
   "source": [
    "source_dir = r\"C:\\\\Users\\\\sandr\\\\Documents\\\\DINAMARCA\\\\MASTER\\\\Summer2024\\\\trabajo\\\\FRGC\\\\Morphed\\\\morphs_facemorpher\"\n",
    "reference_dir = r\"C:\\\\Users\\\\sandr\\\\Documents\\\\DINAMARCA\\\\MASTER\\\\Summer2024\\\\trabajo\\\\Final\\\\bonafide_reference\"\n",
    "target_dir = r\"C:\\\\Users\\\\sandr\\\\Documents\\\\DINAMARCA\\\\MASTER\\\\Summer2024\\\\trabajo\\\\Final\\\\morphs_facemorpher\"\n",
    "import os\n",
    "import re\n",
    "import shutil\n",
    "\n",
    "\n",
    "\n",
    "#Get the list of files in each directory\n",
    "reference_files = os.listdir(reference_dir)\n",
    "source_files = os.listdir(source_dir)\n",
    "\n",
    "prefixes = []\n",
    "copies = []\n",
    "\n",
    "for reference_file in reference_files:\n",
    "    if reference_file.endswith('.png'):\n",
    "        prefix = reference_file.split('d')[0] \n",
    "        prefixes.append(prefix)\n",
    "\n",
    "alreadyAddedPrefixes = []\n",
    "for source_file in source_files:\n",
    "    pattern = r\"(\\d+)d\" \n",
    "    \n",
    "    matches = re.findall(pattern, source_file) \n",
    "    \n",
    "    if matches[0] not in alreadyAddedPrefixes and matches[0] in prefixes and matches[1] in prefixes:\n",
    "        copies.append(source_file)\n",
    "        alreadyAddedPrefixes.append(matches[0])\n",
    "\n",
    "\n",
    "\n",
    "for source_file in source_files:\n",
    "    pattern = r\"(\\d+)d\" \n",
    "    matches = re.findall(pattern, source_file) \n",
    "    unique = set([x for x in prefixes if x not in alreadyAddedPrefixes])\n",
    "    if matches[0] in unique:\n",
    "        copies.append(source_file)\n",
    "        alreadyAddedPrefixes.append(matches[0])\n",
    "    #if matches[0] not in prefixes and matches[1] not in prefixes:\n",
    "\n",
    "\n",
    "\n",
    "for copy in copies:\n",
    "    shutil.copy2(os.path.join(source_dir, copy), os.path.join(target_dir, copy))\n",
    "[x for x in prefixes if x not in alreadyAddedPrefixes]"
   ]
  },
  {
   "cell_type": "markdown",
   "metadata": {},
   "source": [
    "### FaceFusion"
   ]
  },
  {
   "cell_type": "code",
   "execution_count": 148,
   "metadata": {},
   "outputs": [
    {
     "data": {
      "text/plain": [
       "[]"
      ]
     },
     "execution_count": 148,
     "metadata": {},
     "output_type": "execute_result"
    }
   ],
   "source": [
    "source_dir = r\"C:\\\\Users\\\\sandr\\\\Documents\\\\DINAMARCA\\\\MASTER\\\\Summer2024\\\\trabajo\\\\FRGC\\\\Morphed\\\\morphs_ubo\"\n",
    "reference_dir = r\"C:\\\\Users\\\\sandr\\\\Documents\\\\DINAMARCA\\\\MASTER\\\\Summer2024\\\\trabajo\\\\Final\\\\bonafide_reference\"\n",
    "target_dir = r\"C:\\\\Users\\\\sandr\\\\Documents\\\\DINAMARCA\\\\MASTER\\\\Summer2024\\\\trabajo\\\\Final\\\\morphs_ubo\"\n",
    "import os\n",
    "import re\n",
    "import shutil\n",
    "\n",
    "\n",
    "\n",
    "#Get the list of files in each directory\n",
    "reference_files = os.listdir(reference_dir)\n",
    "source_files = os.listdir(source_dir)\n",
    "\n",
    "prefixes = []\n",
    "copies = []\n",
    "\n",
    "for reference_file in reference_files:\n",
    "    if reference_file.endswith('.png'):\n",
    "        prefix = reference_file.split('d')[0] \n",
    "        prefixes.append(prefix)\n",
    "\n",
    "alreadyAddedPrefixes = []\n",
    "for source_file in source_files:\n",
    "    pattern = r\"(\\d+)d\" \n",
    "    \n",
    "    matches = re.findall(pattern, source_file) \n",
    "    \n",
    "    if matches[0] not in alreadyAddedPrefixes and matches[0] in prefixes and matches[1] in prefixes:\n",
    "        copies.append(source_file)\n",
    "        alreadyAddedPrefixes.append(matches[0])\n",
    "\n",
    "\n",
    "\n",
    "for source_file in source_files:\n",
    "    pattern = r\"(\\d+)d\" \n",
    "    matches = re.findall(pattern, source_file) \n",
    "    unique = set([x for x in prefixes if x not in alreadyAddedPrefixes])\n",
    "    if matches[0] in unique:\n",
    "        copies.append(source_file)\n",
    "        alreadyAddedPrefixes.append(matches[0])\n",
    " \n",
    "\n",
    "for copy in copies:\n",
    "    shutil.copy2(os.path.join(source_dir, copy), os.path.join(target_dir, copy))\n",
    "[x for x in prefixes if x not in alreadyAddedPrefixes]"
   ]
  },
  {
   "cell_type": "code",
   "execution_count": null,
   "metadata": {},
   "outputs": [],
   "source": []
  }
 ],
 "metadata": {
  "kernelspec": {
   "display_name": "Python 3",
   "language": "python",
   "name": "python3"
  },
  "language_info": {
   "codemirror_mode": {
    "name": "ipython",
    "version": 3
   },
   "file_extension": ".py",
   "mimetype": "text/x-python",
   "name": "python",
   "nbconvert_exporter": "python",
   "pygments_lexer": "ipython3",
   "version": "3.11.5"
  }
 },
 "nbformat": 4,
 "nbformat_minor": 2
}
